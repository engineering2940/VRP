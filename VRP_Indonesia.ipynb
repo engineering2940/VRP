{
  "nbformat": 4,
  "nbformat_minor": 0,
  "metadata": {
    "colab": {
      "provenance": [],
      "machine_shape": "hm",
      "authorship_tag": "ABX9TyObaNedEZbPXu/crGUv2OFR",
      "include_colab_link": true
    },
    "kernelspec": {
      "name": "python3",
      "display_name": "Python 3"
    },
    "language_info": {
      "name": "python"
    }
  },
  "cells": [
    {
      "cell_type": "markdown",
      "metadata": {
        "id": "view-in-github",
        "colab_type": "text"
      },
      "source": [
        "<a href=\"https://colab.research.google.com/github/engineering2940/VRP/blob/main/VRP_Indonesia.ipynb\" target=\"_parent\"><img src=\"https://colab.research.google.com/assets/colab-badge.svg\" alt=\"Open In Colab\"/></a>"
      ]
    },
    {
      "cell_type": "code",
      "source": [
        "## for data\n",
        "import pandas as pd\n",
        "import numpy as np\n",
        "import os\n",
        "\n",
        "## for plotting\n",
        "import matplotlib.pyplot as plt\n",
        "import seaborn as sns\n",
        "import folium\n",
        "from folium import plugins\n",
        "import plotly.express as px"
      ],
      "metadata": {
        "id": "r4OBV6bTM8n7"
      },
      "execution_count": 4,
      "outputs": []
    },
    {
      "cell_type": "code",
      "source": [
        "!pip install osmnx==1.3.0"
      ],
      "metadata": {
        "colab": {
          "base_uri": "https://localhost:8080/"
        },
        "id": "hr32lqLdMrPi",
        "outputId": "15515683-f4a2-44b7-d862-f5924b07d4ad"
      },
      "execution_count": 5,
      "outputs": [
        {
          "output_type": "stream",
          "name": "stdout",
          "text": [
            "Requirement already satisfied: osmnx==1.3.0 in /usr/local/lib/python3.11/dist-packages (1.3.0)\n",
            "Requirement already satisfied: geopandas>=0.12 in /usr/local/lib/python3.11/dist-packages (from osmnx==1.3.0) (1.0.1)\n",
            "Requirement already satisfied: matplotlib>=3.5 in /usr/local/lib/python3.11/dist-packages (from osmnx==1.3.0) (3.10.0)\n",
            "Requirement already satisfied: networkx>=2.8 in /usr/local/lib/python3.11/dist-packages (from osmnx==1.3.0) (3.4.2)\n",
            "Requirement already satisfied: numpy>=1.23 in /usr/local/lib/python3.11/dist-packages (from osmnx==1.3.0) (1.26.4)\n",
            "Requirement already satisfied: pandas>=1.5 in /usr/local/lib/python3.11/dist-packages (from osmnx==1.3.0) (2.2.2)\n",
            "Requirement already satisfied: pyproj>=3.4 in /usr/local/lib/python3.11/dist-packages (from osmnx==1.3.0) (3.7.1)\n",
            "Requirement already satisfied: python-dateutil>=2.8 in /usr/local/lib/python3.11/dist-packages (from osmnx==1.3.0) (2.8.2)\n",
            "Requirement already satisfied: requests>=2.28 in /usr/local/lib/python3.11/dist-packages (from osmnx==1.3.0) (2.32.3)\n",
            "Requirement already satisfied: Shapely>=2.0 in /usr/local/lib/python3.11/dist-packages (from osmnx==1.3.0) (2.0.7)\n",
            "Requirement already satisfied: pyogrio>=0.7.2 in /usr/local/lib/python3.11/dist-packages (from geopandas>=0.12->osmnx==1.3.0) (0.10.0)\n",
            "Requirement already satisfied: packaging in /usr/local/lib/python3.11/dist-packages (from geopandas>=0.12->osmnx==1.3.0) (24.2)\n",
            "Requirement already satisfied: contourpy>=1.0.1 in /usr/local/lib/python3.11/dist-packages (from matplotlib>=3.5->osmnx==1.3.0) (1.3.1)\n",
            "Requirement already satisfied: cycler>=0.10 in /usr/local/lib/python3.11/dist-packages (from matplotlib>=3.5->osmnx==1.3.0) (0.12.1)\n",
            "Requirement already satisfied: fonttools>=4.22.0 in /usr/local/lib/python3.11/dist-packages (from matplotlib>=3.5->osmnx==1.3.0) (4.56.0)\n",
            "Requirement already satisfied: kiwisolver>=1.3.1 in /usr/local/lib/python3.11/dist-packages (from matplotlib>=3.5->osmnx==1.3.0) (1.4.8)\n",
            "Requirement already satisfied: pillow>=8 in /usr/local/lib/python3.11/dist-packages (from matplotlib>=3.5->osmnx==1.3.0) (11.1.0)\n",
            "Requirement already satisfied: pyparsing>=2.3.1 in /usr/local/lib/python3.11/dist-packages (from matplotlib>=3.5->osmnx==1.3.0) (3.2.1)\n",
            "Requirement already satisfied: pytz>=2020.1 in /usr/local/lib/python3.11/dist-packages (from pandas>=1.5->osmnx==1.3.0) (2025.1)\n",
            "Requirement already satisfied: tzdata>=2022.7 in /usr/local/lib/python3.11/dist-packages (from pandas>=1.5->osmnx==1.3.0) (2025.1)\n",
            "Requirement already satisfied: certifi in /usr/local/lib/python3.11/dist-packages (from pyproj>=3.4->osmnx==1.3.0) (2025.1.31)\n",
            "Requirement already satisfied: six>=1.5 in /usr/local/lib/python3.11/dist-packages (from python-dateutil>=2.8->osmnx==1.3.0) (1.17.0)\n",
            "Requirement already satisfied: charset-normalizer<4,>=2 in /usr/local/lib/python3.11/dist-packages (from requests>=2.28->osmnx==1.3.0) (3.4.1)\n",
            "Requirement already satisfied: idna<4,>=2.5 in /usr/local/lib/python3.11/dist-packages (from requests>=2.28->osmnx==1.3.0) (3.10)\n",
            "Requirement already satisfied: urllib3<3,>=1.21.1 in /usr/local/lib/python3.11/dist-packages (from requests>=2.28->osmnx==1.3.0) (2.3.0)\n"
          ]
        }
      ]
    },
    {
      "cell_type": "code",
      "source": [
        "## for simple routing\n",
        "import osmnx as ox\n",
        "import networkx as nx\n",
        "import pickle  # Untuk menyimpan graph ke file"
      ],
      "metadata": {
        "id": "kNlnadmHRENW"
      },
      "execution_count": 6,
      "outputs": []
    },
    {
      "cell_type": "code",
      "source": [
        "!pip install ortools"
      ],
      "metadata": {
        "colab": {
          "base_uri": "https://localhost:8080/"
        },
        "id": "MX27JmKVNWVu",
        "outputId": "8cdccb62-0153-4944-953f-2220a6754cab"
      },
      "execution_count": 7,
      "outputs": [
        {
          "output_type": "stream",
          "name": "stdout",
          "text": [
            "Requirement already satisfied: ortools in /usr/local/lib/python3.11/dist-packages (9.12.4544)\n",
            "Requirement already satisfied: absl-py>=2.0.0 in /usr/local/lib/python3.11/dist-packages (from ortools) (2.1.0)\n",
            "Requirement already satisfied: numpy>=1.13.3 in /usr/local/lib/python3.11/dist-packages (from ortools) (1.26.4)\n",
            "Requirement already satisfied: pandas>=2.0.0 in /usr/local/lib/python3.11/dist-packages (from ortools) (2.2.2)\n",
            "Requirement already satisfied: protobuf<5.30,>=5.29.3 in /usr/local/lib/python3.11/dist-packages (from ortools) (5.29.3)\n",
            "Requirement already satisfied: immutabledict>=3.0.0 in /usr/local/lib/python3.11/dist-packages (from ortools) (4.2.1)\n",
            "Requirement already satisfied: python-dateutil>=2.8.2 in /usr/local/lib/python3.11/dist-packages (from pandas>=2.0.0->ortools) (2.8.2)\n",
            "Requirement already satisfied: pytz>=2020.1 in /usr/local/lib/python3.11/dist-packages (from pandas>=2.0.0->ortools) (2025.1)\n",
            "Requirement already satisfied: tzdata>=2022.7 in /usr/local/lib/python3.11/dist-packages (from pandas>=2.0.0->ortools) (2025.1)\n",
            "Requirement already satisfied: six>=1.5 in /usr/local/lib/python3.11/dist-packages (from python-dateutil>=2.8.2->pandas>=2.0.0->ortools) (1.17.0)\n"
          ]
        }
      ]
    },
    {
      "cell_type": "code",
      "source": [
        "## for advanced routing\n",
        "from ortools.constraint_solver import pywrapcp\n",
        "from ortools.constraint_solver import routing_enums_pb2"
      ],
      "metadata": {
        "id": "hx3vPa0HOTx5"
      },
      "execution_count": 8,
      "outputs": []
    },
    {
      "cell_type": "markdown",
      "source": [
        "## **JAWA BARAT**"
      ],
      "metadata": {
        "id": "oubcW38JPU7U"
      }
    },
    {
      "cell_type": "code",
      "source": [
        "# Load dataset\n",
        "file_path = \"/content/k_gudang02.csv\"\n",
        "df = pd.read_csv(file_path)\n",
        "\n",
        "# Filter hanya lokasi di Pulau Jawa\n",
        "provinsi_jabar = [\"JABAR\"]\n",
        "df_jabar = df[df[\"PROVINSI\"].str.upper().isin(provinsi_jawa)].reset_index(drop=True)\n",
        "\n",
        "# Cek jumlah lokasi yang tersedia\n",
        "print(f\"Total lokasi di Pulau Jawa: {len(df_jawa)}\")\n",
        "df_jabar.head()"
      ],
      "metadata": {
        "colab": {
          "base_uri": "https://localhost:8080/",
          "height": 223
        },
        "id": "DRq3Z-45V7wY",
        "outputId": "7b33649b-c0d0-4bfd-de89-f8c542eec5ef"
      },
      "execution_count": 12,
      "outputs": [
        {
          "output_type": "stream",
          "name": "stdout",
          "text": [
            "Total lokasi di Pulau Jawa: 77\n"
          ]
        },
        {
          "output_type": "execute_result",
          "data": {
            "text/plain": [
              "      NEGARA PROVINSI                           UNIT   LONGITUDE  LATITUDE\n",
              "0  INDONESIA    JABAR  TANAH GUDANG CISARANTEN KIDUL  107.692716 -6.939044\n",
              "1  INDONESIA    JABAR         TANAH I GUDANG UTAMA I  107.536566 -6.903000\n",
              "2  INDONESIA    JABAR        TANAH II GUDANG UTAMA I  107.536566 -6.903000\n",
              "3  INDONESIA    JABAR       TANAH III GUDANG UTAMA I  107.536566 -6.903000\n",
              "4  INDONESIA    JABAR        TANAH IV GUDANG UTAMA I  107.536566 -6.903000"
            ],
            "text/html": [
              "\n",
              "  <div id=\"df-8f79d258-a3e2-4563-9680-ff9d357d4843\" class=\"colab-df-container\">\n",
              "    <div>\n",
              "<style scoped>\n",
              "    .dataframe tbody tr th:only-of-type {\n",
              "        vertical-align: middle;\n",
              "    }\n",
              "\n",
              "    .dataframe tbody tr th {\n",
              "        vertical-align: top;\n",
              "    }\n",
              "\n",
              "    .dataframe thead th {\n",
              "        text-align: right;\n",
              "    }\n",
              "</style>\n",
              "<table border=\"1\" class=\"dataframe\">\n",
              "  <thead>\n",
              "    <tr style=\"text-align: right;\">\n",
              "      <th></th>\n",
              "      <th>NEGARA</th>\n",
              "      <th>PROVINSI</th>\n",
              "      <th>UNIT</th>\n",
              "      <th>LONGITUDE</th>\n",
              "      <th>LATITUDE</th>\n",
              "    </tr>\n",
              "  </thead>\n",
              "  <tbody>\n",
              "    <tr>\n",
              "      <th>0</th>\n",
              "      <td>INDONESIA</td>\n",
              "      <td>JABAR</td>\n",
              "      <td>TANAH GUDANG CISARANTEN KIDUL</td>\n",
              "      <td>107.692716</td>\n",
              "      <td>-6.939044</td>\n",
              "    </tr>\n",
              "    <tr>\n",
              "      <th>1</th>\n",
              "      <td>INDONESIA</td>\n",
              "      <td>JABAR</td>\n",
              "      <td>TANAH I GUDANG UTAMA I</td>\n",
              "      <td>107.536566</td>\n",
              "      <td>-6.903000</td>\n",
              "    </tr>\n",
              "    <tr>\n",
              "      <th>2</th>\n",
              "      <td>INDONESIA</td>\n",
              "      <td>JABAR</td>\n",
              "      <td>TANAH II GUDANG UTAMA I</td>\n",
              "      <td>107.536566</td>\n",
              "      <td>-6.903000</td>\n",
              "    </tr>\n",
              "    <tr>\n",
              "      <th>3</th>\n",
              "      <td>INDONESIA</td>\n",
              "      <td>JABAR</td>\n",
              "      <td>TANAH III GUDANG UTAMA I</td>\n",
              "      <td>107.536566</td>\n",
              "      <td>-6.903000</td>\n",
              "    </tr>\n",
              "    <tr>\n",
              "      <th>4</th>\n",
              "      <td>INDONESIA</td>\n",
              "      <td>JABAR</td>\n",
              "      <td>TANAH IV GUDANG UTAMA I</td>\n",
              "      <td>107.536566</td>\n",
              "      <td>-6.903000</td>\n",
              "    </tr>\n",
              "  </tbody>\n",
              "</table>\n",
              "</div>\n",
              "    <div class=\"colab-df-buttons\">\n",
              "\n",
              "  <div class=\"colab-df-container\">\n",
              "    <button class=\"colab-df-convert\" onclick=\"convertToInteractive('df-8f79d258-a3e2-4563-9680-ff9d357d4843')\"\n",
              "            title=\"Convert this dataframe to an interactive table.\"\n",
              "            style=\"display:none;\">\n",
              "\n",
              "  <svg xmlns=\"http://www.w3.org/2000/svg\" height=\"24px\" viewBox=\"0 -960 960 960\">\n",
              "    <path d=\"M120-120v-720h720v720H120Zm60-500h600v-160H180v160Zm220 220h160v-160H400v160Zm0 220h160v-160H400v160ZM180-400h160v-160H180v160Zm440 0h160v-160H620v160ZM180-180h160v-160H180v160Zm440 0h160v-160H620v160Z\"/>\n",
              "  </svg>\n",
              "    </button>\n",
              "\n",
              "  <style>\n",
              "    .colab-df-container {\n",
              "      display:flex;\n",
              "      gap: 12px;\n",
              "    }\n",
              "\n",
              "    .colab-df-convert {\n",
              "      background-color: #E8F0FE;\n",
              "      border: none;\n",
              "      border-radius: 50%;\n",
              "      cursor: pointer;\n",
              "      display: none;\n",
              "      fill: #1967D2;\n",
              "      height: 32px;\n",
              "      padding: 0 0 0 0;\n",
              "      width: 32px;\n",
              "    }\n",
              "\n",
              "    .colab-df-convert:hover {\n",
              "      background-color: #E2EBFA;\n",
              "      box-shadow: 0px 1px 2px rgba(60, 64, 67, 0.3), 0px 1px 3px 1px rgba(60, 64, 67, 0.15);\n",
              "      fill: #174EA6;\n",
              "    }\n",
              "\n",
              "    .colab-df-buttons div {\n",
              "      margin-bottom: 4px;\n",
              "    }\n",
              "\n",
              "    [theme=dark] .colab-df-convert {\n",
              "      background-color: #3B4455;\n",
              "      fill: #D2E3FC;\n",
              "    }\n",
              "\n",
              "    [theme=dark] .colab-df-convert:hover {\n",
              "      background-color: #434B5C;\n",
              "      box-shadow: 0px 1px 3px 1px rgba(0, 0, 0, 0.15);\n",
              "      filter: drop-shadow(0px 1px 2px rgba(0, 0, 0, 0.3));\n",
              "      fill: #FFFFFF;\n",
              "    }\n",
              "  </style>\n",
              "\n",
              "    <script>\n",
              "      const buttonEl =\n",
              "        document.querySelector('#df-8f79d258-a3e2-4563-9680-ff9d357d4843 button.colab-df-convert');\n",
              "      buttonEl.style.display =\n",
              "        google.colab.kernel.accessAllowed ? 'block' : 'none';\n",
              "\n",
              "      async function convertToInteractive(key) {\n",
              "        const element = document.querySelector('#df-8f79d258-a3e2-4563-9680-ff9d357d4843');\n",
              "        const dataTable =\n",
              "          await google.colab.kernel.invokeFunction('convertToInteractive',\n",
              "                                                    [key], {});\n",
              "        if (!dataTable) return;\n",
              "\n",
              "        const docLinkHtml = 'Like what you see? Visit the ' +\n",
              "          '<a target=\"_blank\" href=https://colab.research.google.com/notebooks/data_table.ipynb>data table notebook</a>'\n",
              "          + ' to learn more about interactive tables.';\n",
              "        element.innerHTML = '';\n",
              "        dataTable['output_type'] = 'display_data';\n",
              "        await google.colab.output.renderOutput(dataTable, element);\n",
              "        const docLink = document.createElement('div');\n",
              "        docLink.innerHTML = docLinkHtml;\n",
              "        element.appendChild(docLink);\n",
              "      }\n",
              "    </script>\n",
              "  </div>\n",
              "\n",
              "\n",
              "<div id=\"df-1d904295-d21f-4867-ba07-86d99687ac97\">\n",
              "  <button class=\"colab-df-quickchart\" onclick=\"quickchart('df-1d904295-d21f-4867-ba07-86d99687ac97')\"\n",
              "            title=\"Suggest charts\"\n",
              "            style=\"display:none;\">\n",
              "\n",
              "<svg xmlns=\"http://www.w3.org/2000/svg\" height=\"24px\"viewBox=\"0 0 24 24\"\n",
              "     width=\"24px\">\n",
              "    <g>\n",
              "        <path d=\"M19 3H5c-1.1 0-2 .9-2 2v14c0 1.1.9 2 2 2h14c1.1 0 2-.9 2-2V5c0-1.1-.9-2-2-2zM9 17H7v-7h2v7zm4 0h-2V7h2v10zm4 0h-2v-4h2v4z\"/>\n",
              "    </g>\n",
              "</svg>\n",
              "  </button>\n",
              "\n",
              "<style>\n",
              "  .colab-df-quickchart {\n",
              "      --bg-color: #E8F0FE;\n",
              "      --fill-color: #1967D2;\n",
              "      --hover-bg-color: #E2EBFA;\n",
              "      --hover-fill-color: #174EA6;\n",
              "      --disabled-fill-color: #AAA;\n",
              "      --disabled-bg-color: #DDD;\n",
              "  }\n",
              "\n",
              "  [theme=dark] .colab-df-quickchart {\n",
              "      --bg-color: #3B4455;\n",
              "      --fill-color: #D2E3FC;\n",
              "      --hover-bg-color: #434B5C;\n",
              "      --hover-fill-color: #FFFFFF;\n",
              "      --disabled-bg-color: #3B4455;\n",
              "      --disabled-fill-color: #666;\n",
              "  }\n",
              "\n",
              "  .colab-df-quickchart {\n",
              "    background-color: var(--bg-color);\n",
              "    border: none;\n",
              "    border-radius: 50%;\n",
              "    cursor: pointer;\n",
              "    display: none;\n",
              "    fill: var(--fill-color);\n",
              "    height: 32px;\n",
              "    padding: 0;\n",
              "    width: 32px;\n",
              "  }\n",
              "\n",
              "  .colab-df-quickchart:hover {\n",
              "    background-color: var(--hover-bg-color);\n",
              "    box-shadow: 0 1px 2px rgba(60, 64, 67, 0.3), 0 1px 3px 1px rgba(60, 64, 67, 0.15);\n",
              "    fill: var(--button-hover-fill-color);\n",
              "  }\n",
              "\n",
              "  .colab-df-quickchart-complete:disabled,\n",
              "  .colab-df-quickchart-complete:disabled:hover {\n",
              "    background-color: var(--disabled-bg-color);\n",
              "    fill: var(--disabled-fill-color);\n",
              "    box-shadow: none;\n",
              "  }\n",
              "\n",
              "  .colab-df-spinner {\n",
              "    border: 2px solid var(--fill-color);\n",
              "    border-color: transparent;\n",
              "    border-bottom-color: var(--fill-color);\n",
              "    animation:\n",
              "      spin 1s steps(1) infinite;\n",
              "  }\n",
              "\n",
              "  @keyframes spin {\n",
              "    0% {\n",
              "      border-color: transparent;\n",
              "      border-bottom-color: var(--fill-color);\n",
              "      border-left-color: var(--fill-color);\n",
              "    }\n",
              "    20% {\n",
              "      border-color: transparent;\n",
              "      border-left-color: var(--fill-color);\n",
              "      border-top-color: var(--fill-color);\n",
              "    }\n",
              "    30% {\n",
              "      border-color: transparent;\n",
              "      border-left-color: var(--fill-color);\n",
              "      border-top-color: var(--fill-color);\n",
              "      border-right-color: var(--fill-color);\n",
              "    }\n",
              "    40% {\n",
              "      border-color: transparent;\n",
              "      border-right-color: var(--fill-color);\n",
              "      border-top-color: var(--fill-color);\n",
              "    }\n",
              "    60% {\n",
              "      border-color: transparent;\n",
              "      border-right-color: var(--fill-color);\n",
              "    }\n",
              "    80% {\n",
              "      border-color: transparent;\n",
              "      border-right-color: var(--fill-color);\n",
              "      border-bottom-color: var(--fill-color);\n",
              "    }\n",
              "    90% {\n",
              "      border-color: transparent;\n",
              "      border-bottom-color: var(--fill-color);\n",
              "    }\n",
              "  }\n",
              "</style>\n",
              "\n",
              "  <script>\n",
              "    async function quickchart(key) {\n",
              "      const quickchartButtonEl =\n",
              "        document.querySelector('#' + key + ' button');\n",
              "      quickchartButtonEl.disabled = true;  // To prevent multiple clicks.\n",
              "      quickchartButtonEl.classList.add('colab-df-spinner');\n",
              "      try {\n",
              "        const charts = await google.colab.kernel.invokeFunction(\n",
              "            'suggestCharts', [key], {});\n",
              "      } catch (error) {\n",
              "        console.error('Error during call to suggestCharts:', error);\n",
              "      }\n",
              "      quickchartButtonEl.classList.remove('colab-df-spinner');\n",
              "      quickchartButtonEl.classList.add('colab-df-quickchart-complete');\n",
              "    }\n",
              "    (() => {\n",
              "      let quickchartButtonEl =\n",
              "        document.querySelector('#df-1d904295-d21f-4867-ba07-86d99687ac97 button');\n",
              "      quickchartButtonEl.style.display =\n",
              "        google.colab.kernel.accessAllowed ? 'block' : 'none';\n",
              "    })();\n",
              "  </script>\n",
              "</div>\n",
              "\n",
              "    </div>\n",
              "  </div>\n"
            ],
            "application/vnd.google.colaboratory.intrinsic+json": {
              "type": "dataframe",
              "variable_name": "df_jabar",
              "summary": "{\n  \"name\": \"df_jabar\",\n  \"rows\": 77,\n  \"fields\": [\n    {\n      \"column\": \"NEGARA\",\n      \"properties\": {\n        \"dtype\": \"category\",\n        \"num_unique_values\": 1,\n        \"samples\": [\n          \"INDONESIA\"\n        ],\n        \"semantic_type\": \"\",\n        \"description\": \"\"\n      }\n    },\n    {\n      \"column\": \"PROVINSI\",\n      \"properties\": {\n        \"dtype\": \"category\",\n        \"num_unique_values\": 1,\n        \"samples\": [\n          \"JABAR\"\n        ],\n        \"semantic_type\": \"\",\n        \"description\": \"\"\n      }\n    },\n    {\n      \"column\": \"UNIT\",\n      \"properties\": {\n        \"dtype\": \"string\",\n        \"num_unique_values\": 77,\n        \"samples\": [\n          \"TANAH IV GUDANG UTAMA I\"\n        ],\n        \"semantic_type\": \"\",\n        \"description\": \"\"\n      }\n    },\n    {\n      \"column\": \"LONGITUDE\",\n      \"properties\": {\n        \"dtype\": \"number\",\n        \"std\": 0.519636594874717,\n        \"min\": 106.733205,\n        \"max\": 108.6335,\n        \"num_unique_values\": 51,\n        \"samples\": [\n          107.821912\n        ],\n        \"semantic_type\": \"\",\n        \"description\": \"\"\n      }\n    },\n    {\n      \"column\": \"LATITUDE\",\n      \"properties\": {\n        \"dtype\": \"number\",\n        \"std\": 0.31712636776402325,\n        \"min\": -7.373123,\n        \"max\": -6.152491,\n        \"num_unique_values\": 51,\n        \"samples\": [\n          -6.314181\n        ],\n        \"semantic_type\": \"\",\n        \"description\": \"\"\n      }\n    }\n  ]\n}"
            }
          },
          "metadata": {},
          "execution_count": 12
        }
      ]
    },
    {
      "cell_type": "code",
      "source": [
        "# Tentukan path penyimpanan\n",
        "graph_path = \"/content/graph_jabar.graphml\"\n",
        "\n",
        "# Periksa apakah graph sudah ada\n",
        "if os.path.exists(graph_path):\n",
        "    print(\"Memuat graph dari file...\")\n",
        "    G = ox.load_graphml(graph_path)\n",
        "else:\n",
        "    print(\"Mengunduh graph dari OSM...\")\n",
        "    place_name = \"Jawa Barat, Indonesia\"\n",
        "    G = ox.graph_from_place(place_name, network_type=\"drive\")\n",
        "    ox.save_graphml(G, graph_path)\n",
        "    print(f\"Graph disimpan di {graph_path}\")\n",
        "\n",
        "print(f\"Graph Jawa Barat berhasil dibuat dengan {len(G.nodes)} nodes dan {len(G.edges)} edges.\")"
      ],
      "metadata": {
        "id": "FMMwPFZAWGl4",
        "colab": {
          "base_uri": "https://localhost:8080/"
        },
        "outputId": "c67035e4-810b-4dd6-d8d4-fa6dfff337f5"
      },
      "execution_count": 10,
      "outputs": [
        {
          "output_type": "stream",
          "name": "stdout",
          "text": [
            "Memuat graph dari file...\n",
            "Graph Jawa Barat berhasil dibuat dengan 872589 nodes dan 2094094 edges.\n"
          ]
        }
      ]
    },
    {
      "cell_type": "code",
      "source": [
        "# Konversi lokasi ke node di graph OSM\n",
        "nodes = [ox.distance.nearest_nodes(G, row[\"LONGITUDE\"], row[\"LATITUDE\"]) for _, row in df_jabar.iterrows()]\n",
        "\n",
        "# Buat Matriks Jarak berdasarkan Shortest Path di Graph OSM\n",
        "def create_shortest_path_matrix(G, nodes):\n",
        "    num_nodes = len(nodes)\n",
        "    distance_matrix = np.zeros((num_nodes, num_nodes))\n",
        "\n",
        "    for i in range(num_nodes):\n",
        "        for j in range(num_nodes):\n",
        "            if i != j:\n",
        "                try:\n",
        "                    # Gunakan Dijkstra untuk menghitung jarak jalan sebenarnya\n",
        "                    distance_matrix[i][j] = nx.shortest_path_length(G, nodes[i], nodes[j], weight='length')\n",
        "                except nx.NetworkXNoPath:\n",
        "                    distance_matrix[i][j] = np.inf  # Jika tidak ada jalur, set ke infinity\n",
        "\n",
        "    return distance_matrix\n",
        "\n",
        "# Buat Matriks Jarak\n",
        "distance_matrix = create_shortest_path_matrix(G, nodes)\n",
        "\n",
        "print(\"Matriks jarak berdasarkan Dijkstra Shortest Path berhasil dibuat.\")"
      ],
      "metadata": {
        "colab": {
          "base_uri": "https://localhost:8080/"
        },
        "id": "FmRkjFYGOO1Y",
        "outputId": "f305062c-d4e8-4d28-9a42-40057a9019d8"
      },
      "execution_count": 13,
      "outputs": [
        {
          "output_type": "stream",
          "name": "stdout",
          "text": [
            "Matriks jarak berdasarkan Dijkstra Shortest Path berhasil dibuat.\n"
          ]
        }
      ]
    },
    {
      "cell_type": "code",
      "source": [
        "# Set parameter VRP\n",
        "drivers = 10  # Jumlah kendaraan\n",
        "driver_capacities = [10000] * drivers  # Kapasitas per kendaraan (kg)\n",
        "max_distance = 300 * 1000  # 300 km dalam meter (Jawa Barat lebih kecil)\n",
        "\n",
        "def solve_vrp(distance_matrix, max_distance, drivers, driver_capacities):\n",
        "    num_nodes = len(distance_matrix)\n",
        "\n",
        "    manager = pywrapcp.RoutingIndexManager(num_nodes, drivers, 0)\n",
        "    model = pywrapcp.RoutingModel(manager)\n",
        "\n",
        "    def distance_callback(from_index, to_index):\n",
        "        from_node = manager.IndexToNode(from_index)\n",
        "        to_node = manager.IndexToNode(to_index)\n",
        "        return int(distance_matrix[from_node][to_node])\n",
        "\n",
        "    transit_callback_index = model.RegisterTransitCallback(distance_callback)\n",
        "    model.SetArcCostEvaluatorOfAllVehicles(transit_callback_index)\n",
        "    model.AddDimension(transit_callback_index, 0, max_distance, True, \"Distance\")\n",
        "\n",
        "    search_parameters = pywrapcp.DefaultRoutingSearchParameters()\n",
        "    search_parameters.first_solution_strategy = routing_enums_pb2.FirstSolutionStrategy.PATH_CHEAPEST_ARC\n",
        "\n",
        "    solution = model.SolveWithParameters(search_parameters)\n",
        "\n",
        "    if solution:\n",
        "        routes = {}\n",
        "        for driver in range(drivers):\n",
        "            index = model.Start(driver)\n",
        "            route = []\n",
        "            while not model.IsEnd(index):\n",
        "                node_index = manager.IndexToNode(index)\n",
        "                route.append(nodes[node_index])\n",
        "                index = solution.Value(model.NextVar(index))\n",
        "            route.append(nodes[manager.IndexToNode(index)])\n",
        "            routes[driver] = route\n",
        "        return routes\n",
        "    else:\n",
        "        print(\"Tidak ada solusi VRP ditemukan.\")\n",
        "        return None\n",
        "\n",
        "# Jalankan model VRP dengan Shortest Path\n",
        "vrp_routes = solve_vrp(distance_matrix, max_distance, drivers, driver_capacities)\n",
        "\n",
        "# Simpan hasil rute di memori Google Colab\n",
        "if vrp_routes:\n",
        "    print(\"VRP berhasil dijalankan untuk Jawa Barat!\")"
      ],
      "metadata": {
        "colab": {
          "base_uri": "https://localhost:8080/"
        },
        "id": "WbDcAhqtPdEm",
        "outputId": "2f1c26b8-51d2-4ea4-fbd0-9dbb5ce1c805"
      },
      "execution_count": 14,
      "outputs": [
        {
          "output_type": "stream",
          "name": "stdout",
          "text": [
            "VRP berhasil dijalankan untuk Jawa Barat!\n"
          ]
        }
      ]
    },
    {
      "cell_type": "code",
      "source": [
        "# Buat peta awal di Jawa Barat\n",
        "m = folium.Map(location=[-6.9, 107.6], zoom_start=9)\n",
        "\n",
        "# Tambahkan rute ke peta\n",
        "colors = [\"red\", \"blue\", \"green\", \"purple\", \"orange\", \"darkred\", \"lightblue\"]\n",
        "for i, (driver, route) in enumerate(vrp_routes.items()):\n",
        "    color = colors[i % len(colors)]  # Pilih warna dari daftar\n",
        "    points = [(G.nodes[n][\"y\"], G.nodes[n][\"x\"]) for n in route]\n",
        "    folium.PolyLine(points, color=color, weight=2.5, opacity=1).add_to(m)\n",
        "\n",
        "# Tambahkan marker untuk lokasi utama\n",
        "for _, row in df_jabar.iterrows():\n",
        "    folium.Marker(\n",
        "        location=[row[\"LATITUDE\"], row[\"LONGITUDE\"]],\n",
        "        popup=row[\"UNIT\"],\n",
        "        icon=folium.Icon(color=\"blue\", icon=\"cloud\")\n",
        "    ).add_to(m)\n",
        "\n",
        "# Simpan dan tampilkan peta\n",
        "map_path = \"/content/vrp_map_jabar.html\"\n",
        "m.save(map_path)\n",
        "print(f\"Peta VRP untuk Jawa Barat disimpan sebagai `{map_path}`.\")"
      ],
      "metadata": {
        "colab": {
          "base_uri": "https://localhost:8080/"
        },
        "id": "BFnyj8XAPtP9",
        "outputId": "60ef8c85-c7e5-41a2-f497-c898db79345b"
      },
      "execution_count": 15,
      "outputs": [
        {
          "output_type": "stream",
          "name": "stdout",
          "text": [
            "Peta VRP untuk Jawa Barat disimpan sebagai `/content/vrp_map_jabar.html`.\n"
          ]
        }
      ]
    },
    {
      "cell_type": "code",
      "source": [],
      "metadata": {
        "id": "QOQomyo24PTH"
      },
      "execution_count": null,
      "outputs": []
    }
  ]
}